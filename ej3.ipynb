{
 "cells": [
  {
   "attachments": {
    "image.png": {
     "image/png": "[encoded data removed]"
    }
   },
   "cell_type": "markdown",
   "id": "22761d38",
   "metadata": {},
   "source": [
    "![image.png](attachment:image.png)"
   ]
  },
  {
   "cell_type": "code",
   "execution_count": 1,
   "id": "01a70f5c",
   "metadata": {},
   "outputs": [
    {
     "name": "stdout",
     "output_type": "stream",
     "text": [
      "Iteración 0: [0. 0. 0.]\n",
      "Iteración 1: [0.33333333 0.         0.57142857]\n",
      "Iteración 2: [ 0.14285714 -0.24603175  0.42857143]\n",
      "Iteración 3: [ 0.10846561 -0.16666667  0.61564626]\n",
      "Iteración 4: [ 0.07256236 -0.22329302  0.59637188]\n",
      "Iteración 5: [ 0.0601117  -0.21088435  0.63602743]\n",
      "Iteración 6: [ 0.05102941 -0.22202776  0.63604542]\n",
      "Iteración 7: [ 0.04730894 -0.22052004  0.64471358]\n",
      "Iteración 8: [ 0.04492213 -0.22278935  0.6456619 ]\n",
      "Iteración 9: [ 0.04384958 -0.22270765  0.64765738]\n",
      "Iteración 10: [ 0.04321165 -0.22319406  0.64808203]\n",
      "\n",
      "Convergencia alcanzada.\n",
      "\n",
      "Solución aproximada final: [ 0.04321165 -0.22319406  0.64808203]\n"
     ]
    }
   ],
   "source": [
    "import numpy as np\n",
    "\n",
    "def jacobi(A, b, x0, tol=1e-3, max_iter=100):\n",
    "    n = len(b)\n",
    "    x = x0.copy()\n",
    "    x_new = np.zeros_like(x0)\n",
    "\n",
    "    print(\"Iteración 0:\", x0)\n",
    "\n",
    "    for k in range(1, max_iter + 1):\n",
    "        for i in range(n):\n",
    "            s = sum(A[i][j] * x[j] for j in range(n) if j != i)\n",
    "            x_new[i] = (b[i] - s) / A[i][i]\n",
    "\n",
    "        print(f\"Iteración {k}: {x_new}\")\n",
    "\n",
    "        if np.linalg.norm(x_new - x, ord=np.inf) < tol:\n",
    "            print(\"\\nConvergencia alcanzada.\")\n",
    "            break\n",
    "\n",
    "        x = x_new.copy()\n",
    "\n",
    "    return x_new\n",
    "\n",
    "\n",
    "# =====================\n",
    "# Ejemplo: Sistema (a)\n",
    "# =====================\n",
    "A = np.array([\n",
    "    [3, -1, 1],\n",
    "    [1, 6, 2],\n",
    "    [3, 3, 7]\n",
    "], dtype=float)\n",
    "\n",
    "b = np.array([1, 0, 4], dtype=float)\n",
    "\n",
    "x0 = np.zeros_like(b)\n",
    "\n",
    "sol = jacobi(A, b, x0, tol=1e-3)\n",
    "print(\"\\nSolución aproximada final:\", sol)\n"
   ]
  },
  {
   "cell_type": "code",
   "execution_count": 2,
   "id": "f766d0ea",
   "metadata": {},
   "outputs": [
    {
     "name": "stdout",
     "output_type": "stream",
     "text": [
      "Iteración 0: [0. 0. 0.]\n",
      "Iteración 1: [0.9 0.7 0.6]\n",
      "Iteración 2: [0.97 0.91 0.74]\n",
      "Iteración 3: [0.991 0.945 0.782]\n",
      "Iteración 4: [0.9945 0.9555 0.789 ]\n",
      "Iteración 5: [0.99555 0.95725 0.7911 ]\n",
      "Iteración 6: [0.995725 0.957775 0.79145 ]\n",
      "\n",
      "Convergencia alcanzada.\n",
      "\n",
      "Solución aproximada final: [0.995725 0.957775 0.79145 ]\n"
     ]
    }
   ],
   "source": [
    "A = np.array([\n",
    "    [10, -1, 0],\n",
    "    [-1, 10, -2],\n",
    "    [0, -2, 10]\n",
    "], dtype=float)\n",
    "\n",
    "b = np.array([9, 7, 6], dtype=float)\n",
    "x0 = np.zeros_like(b)\n",
    "\n",
    "sol = jacobi(A, b, x0, tol=1e-3)\n",
    "print(\"\\nSolución aproximada final:\", sol)"
   ]
  },
  {
   "cell_type": "code",
   "execution_count": 3,
   "id": "fd345d50",
   "metadata": {},
   "outputs": [
    {
     "name": "stdout",
     "output_type": "stream",
     "text": [
      "Iteración 0: [0. 0. 0. 0.]\n",
      "Iteración 1: [ 0.6    2.5   -1.375 -2.2  ]\n",
      "Iteración 2: [-0.65   1.65  -0.4   -2.475]\n",
      "Iteración 3: [-0.225     2.665    -0.859375 -2.28    ]\n",
      "Iteración 4: [-0.7325    2.26875  -0.3275   -2.371875]\n",
      "Iteración 5: [-0.534375    2.73525    -0.53710938 -2.2655    ]\n",
      "Iteración 6: [-0.767625    2.55234375 -0.2905625  -2.30742188]\n",
      "Iteración 7: [-0.67617187  2.7675875  -0.38725586 -2.2581125 ]\n",
      "Iteración 8: [-0.78379375  2.68318359 -0.27347031 -2.27745117]\n",
      "Iteración 9: [-0.7415918   2.78250875 -0.3180896  -2.25469406]\n",
      "Iteración 10: [-0.79125437  2.74356006 -0.26558238 -2.26361792]\n",
      "Iteración 11: [-0.77178003  2.78939423 -0.28617221 -2.25311648]\n",
      "Iteración 12: [-0.79469712  2.77142113 -0.26194244 -2.25723444]\n",
      "Iteración 13: [-0.78571057  2.79257158 -0.27144374 -2.25238849]\n",
      "Iteración 14: [-0.79628579  2.78427779 -0.26026277 -2.25428875]\n",
      "Iteración 15: [-0.79213889  2.79403779 -0.2646472  -2.25205255]\n",
      "Iteración 16: [-0.79701889  2.79021057 -0.25948768 -2.25292944]\n",
      "Iteración 17: [-0.79510528  2.79471438 -0.2615109  -2.25189754]\n",
      "Iteración 18: [-0.79735719  2.79294828 -0.25913    -2.25230218]\n",
      "Iteración 19: [-0.79647414  2.79502659 -0.26006363 -2.251826  ]\n",
      "Iteración 20: [-0.7975133   2.79421162 -0.25896495 -2.25201273]\n",
      "Iteración 21: [-0.79710581  2.79517067 -0.25939578 -2.25179299]\n",
      "\n",
      "Convergencia alcanzada.\n",
      "\n",
      "Solución aproximada final: [-0.79710581  2.79517067 -0.25939578 -2.25179299]\n"
     ]
    }
   ],
   "source": [
    "A = np.array([\n",
    "    [10, 5, 0, 0],\n",
    "    [5, 10, -4, 0],\n",
    "    [0, -4, 8, -1],\n",
    "    [0, 0, -1, 5]\n",
    "], dtype=float)\n",
    "\n",
    "b = np.array([6, 25, -11, -11], dtype=float)\n",
    "x0 = np.zeros_like(b)\n",
    "\n",
    "sol = jacobi(A, b, x0, tol=1e-3)\n",
    "print(\"\\nSolución aproximada final:\", sol)"
   ]
  },
  {
   "cell_type": "code",
   "execution_count": 4,
   "id": "2a3f557f",
   "metadata": {},
   "outputs": [
    {
     "name": "stdout",
     "output_type": "stream",
     "text": [
      "Iteración 0: [0. 0. 0. 0. 0.]\n",
      "Iteración 1: [ 1.5 -2.   1.2  1.5  1.5]\n",
      "Iteración 2: [ 1.325 -1.6    1.6    1.775  3.025]\n",
      "Iteración 3: [ 0.74375    -1.31666667  1.95        2.23125     3.05625   ]\n",
      "Iteración 4: [ 0.57760417 -0.85416667  2.22333333  2.49010417  3.06302083]\n",
      "Iteración 5: [ 0.39195313 -0.62138889  2.25041667  2.88481771  2.97205729]\n",
      "Iteración 6: [ 0.34972873 -0.41890625  2.33887153  2.97510634  2.77730252]\n",
      "Iteración 7: [ 0.32568305 -0.34525029  2.29437153  3.1321327   2.71983019]\n",
      "Iteración 8: [ 0.33276214 -0.29972627  2.30916942  3.12957426  2.61037061]\n",
      "Iteración 9: [ 0.34504656 -0.29800615  2.27482937  3.16520446  2.59934663]\n",
      "Iteración 10: [ 0.35595754 -0.30167091  2.27449283  3.14338059  2.56382399]\n",
      "Iteración 11: [ 0.36583852 -0.31269471  2.25939208  3.14402355  2.57085993]\n",
      "Iteración 12: [ 0.37061067 -0.32080763  2.25918023  3.12965634  2.56488553]\n",
      "Iteración 13: [ 0.37418547 -0.32725804  2.25482563  3.12663402  2.5723749 ]\n",
      "Iteración 14: [ 0.37501438 -0.3309086   2.2555792   3.12103657  2.57308973]\n",
      "Iteración 15: [ 0.37555992 -0.33279953  2.25500123  3.1199837   2.57687956]\n",
      "Iteración 16: [ 0.37522968 -0.333525    2.25570859  3.11874114  2.57765477]\n",
      "Iteración 17: [ 0.37504041 -0.33359332  2.25589231  3.11882637  2.57885866]\n",
      "Iteración 18: [ 0.37471059 -0.33344058  2.2562395   3.11888267  2.5790093 ]\n",
      "\n",
      "Convergencia alcanzada.\n",
      "\n",
      "Solución aproximada final: [ 0.37471059 -0.33344058  2.2562395   3.11888267  2.5790093 ]\n"
     ]
    }
   ],
   "source": [
    "A = np.array([\n",
    "    [4, 1, 1, 0, 1],\n",
    "    [-1, -3, 1, 1, 0],\n",
    "    [2, 1, 5, -1, -1],\n",
    "    [-1, -2, -3, 4, 0],\n",
    "    [0, 2, -3, 1, 4]\n",
    "], dtype=float)\n",
    "\n",
    "b = np.array([6, 6, 6, 6, 6], dtype=float)\n",
    "x0 = np.zeros_like(b)\n",
    "\n",
    "sol = jacobi(A, b, x0, tol=1e-3)\n",
    "print(\"\\nSolución aproximada final:\", sol)"
   ]
  }
 ],
 "metadata": {
  "kernelspec": {
   "display_name": "Python 3",
   "language": "python",
   "name": "python3"
  },
  "language_info": {
   "codemirror_mode": {
    "name": "ipython",
    "version": 3
   },
   "file_extension": ".py",
   "mimetype": "text/x-python",
   "name": "python",
   "nbconvert_exporter": "python",
   "pygments_lexer": "ipython3",
   "version": "3.13.0"
  }
 },
 "nbformat": 4,
 "nbformat_minor": 5
}
