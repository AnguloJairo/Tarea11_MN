{
 "cells": [
  {
   "attachments": {
    "image.png": {
     "image/png": "[encoded data removed]"
    }
   },
   "cell_type": "markdown",
   "id": "f2d8aa18",
   "metadata": {},
   "source": [
    "![image.png](attachment:image.png)"
   ]
  },
  {
   "cell_type": "code",
   "execution_count": 2,
   "id": "f064ba53",
   "metadata": {},
   "outputs": [],
   "source": [
    "import numpy as np\n",
    "\n",
    "def gauss_seidel(A, b, iterations=2, x0=None):\n",
    "    \"\"\"\n",
    "    Realiza iteraciones del método de Gauss-Seidel para resolver Ax = b\n",
    "    \n",
    "    Args:\n",
    "        A: Matriz de coeficientes\n",
    "        b: Vector de términos independientes\n",
    "        iterations: Número de iteraciones a realizar\n",
    "        x0: Vector inicial (si es None, se usa vector cero)\n",
    "    \n",
    "    Returns:\n",
    "        Lista con las aproximaciones en cada iteración\n",
    "    \"\"\"\n",
    "    n = len(b)\n",
    "    if x0 is None:\n",
    "        x0 = np.zeros(n)\n",
    "    \n",
    "    # Preparamos las matrices\n",
    "    L = np.tril(A)  # Triangular inferior incluyendo diagonal\n",
    "    U = A - L        # Triangular superior estricta\n",
    "    \n",
    "    approximations = [x0]\n",
    "    for _ in range(iterations):\n",
    "        x_new = np.zeros(n)\n",
    "        for i in range(n):\n",
    "            sum1 = np.dot(A[i, :i], x_new[:i])  # Usa los valores ya actualizados\n",
    "            sum2 = np.dot(A[i, i+1:], approximations[-1][i+1:])  # Usa valores anteriores\n",
    "            x_new[i] = (b[i] - sum1 - sum2) / A[i, i]\n",
    "        approximations.append(x_new)\n",
    "    \n",
    "    return approximations"
   ]
  },
  {
   "cell_type": "code",
   "execution_count": 3,
   "id": "e6e5e2f5",
   "metadata": {},
   "outputs": [
    {
     "name": "stdout",
     "output_type": "stream",
     "text": [
      "=== Sistema 2a ===\n",
      "Iteración 0: x = [0. 0. 0.]\n",
      "Iteración 1: x = [ 0.33333333 -0.16666667  0.5       ]\n",
      "Iteración 2: x = [ 0.11111111 -0.22222222  0.61904762]\n"
     ]
    }
   ],
   "source": [
    "# Sistema 2a\n",
    "A2a = np.array([[3, -1, 1],\n",
    "                [3, 6, 2],\n",
    "                [3, 3, 7]], dtype=float)\n",
    "b2a = np.array([1, 0, 4], dtype=float)\n",
    "\n",
    "print(\"=== Sistema 2a ===\")\n",
    "approx2a = gauss_seidel(A2a, b2a)\n",
    "for i, x in enumerate(approx2a):\n",
    "    print(f\"Iteración {i}: x = {x}\")"
   ]
  },
  {
   "cell_type": "code",
   "execution_count": 4,
   "id": "555a8cba",
   "metadata": {},
   "outputs": [
    {
     "name": "stdout",
     "output_type": "stream",
     "text": [
      "\n",
      "=== Sistema 2b ===\n",
      "Iteración 0: x = [0. 0. 0.]\n",
      "Iteración 1: x = [0.9   0.79  0.758]\n",
      "Iteración 2: x = [0.979  0.9495 0.7899]\n"
     ]
    }
   ],
   "source": [
    "# Sistema 2b\n",
    "A2b = np.array([[10, -1, 0],\n",
    "                [-1, 10, -2],\n",
    "                [0, -2, 10]], dtype=float)\n",
    "b2b = np.array([9, 7, 6], dtype=float)\n",
    "\n",
    "print(\"\\n=== Sistema 2b ===\")\n",
    "approx2b = gauss_seidel(A2b, b2b)\n",
    "for i, x in enumerate(approx2b):\n",
    "    print(f\"Iteración {i}: x = {x}\")"
   ]
  },
  {
   "cell_type": "code",
   "execution_count": 5,
   "id": "d535cb6d",
   "metadata": {},
   "outputs": [
    {
     "name": "stdout",
     "output_type": "stream",
     "text": [
      "\n",
      "=== Sistema 2c ===\n",
      "Iteración 0: x = [0. 0. 0. 0.]\n",
      "Iteración 1: x = [ 0.6    2.2   -0.275 -2.255]\n",
      "Iteración 2: x = [-0.5       2.64     -0.336875 -2.267375]\n"
     ]
    }
   ],
   "source": [
    "# Sistema 2c\n",
    "A2c = np.array([[10, 5, 0, 0],\n",
    "                [5, 10, -4, 0],\n",
    "                [0, -4, 8, -1],\n",
    "                [0, 0, -1, 5]], dtype=float)\n",
    "b2c = np.array([6, 25, -11, -11], dtype=float)\n",
    "\n",
    "print(\"\\n=== Sistema 2c ===\")\n",
    "approx2c = gauss_seidel(A2c, b2c)\n",
    "for i, x in enumerate(approx2c):\n",
    "    print(f\"Iteración {i}: x = {x}\")"
   ]
  },
  {
   "cell_type": "code",
   "execution_count": 7,
   "id": "ab1c0b9b",
   "metadata": {},
   "outputs": [
    {
     "name": "stdout",
     "output_type": "stream",
     "text": [
      "\n",
      "=== Sistema 2d ===\n",
      "Iteración 0: x = [0. 0. 0. 0. 0.]\n",
      "Iteración 1: x = [ 1.5     -2.5      1.1      1.525    2.64375]\n",
      "Iteración 2: x = [ 1.1890625  -1.52135417  1.86239583  1.88252604  2.25564453]\n"
     ]
    }
   ],
   "source": [
    "# Sistema 2d\n",
    "A2d = np.array([[4, 1, 1, 0, 1],\n",
    "                [-1, -3, 1, 1, 0],\n",
    "                [2, 1, 5, -1, -1],\n",
    "                [-1, -1, -1, 4, 0],\n",
    "                [0, 2, -1, 1, 4]], dtype=float)\n",
    "b2d = np.array([6, 6, 6, 6, 6], dtype=float)\n",
    "\n",
    "print(\"\\n=== Sistema 2d ===\")\n",
    "approx2d = gauss_seidel(A2d, b2d)\n",
    "for i, x in enumerate(approx2d):\n",
    "    print(f\"Iteración {i}: x = {x}\")"
   ]
  }
 ],
 "metadata": {
  "kernelspec": {
   "display_name": "Python 3",
   "language": "python",
   "name": "python3"
  },
  "language_info": {
   "codemirror_mode": {
    "name": "ipython",
    "version": 3
   },
   "file_extension": ".py",
   "mimetype": "text/x-python",
   "name": "python",
   "nbconvert_exporter": "python",
   "pygments_lexer": "ipython3",
   "version": "3.13.0"
  }
 },
 "nbformat": 4,
 "nbformat_minor": 5
}
