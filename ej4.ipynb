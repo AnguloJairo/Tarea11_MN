{
 "cells": [
  {
   "attachments": {
    "image.png": {
     "image/png": "[encoded data removed]"
    }
   },
   "cell_type": "markdown",
   "id": "6b9f8700",
   "metadata": {},
   "source": [
    "![image.png](attachment:image.png)"
   ]
  },
  {
   "cell_type": "code",
   "execution_count": 2,
   "id": "58bb7b68",
   "metadata": {},
   "outputs": [
    {
     "name": "stdout",
     "output_type": "stream",
     "text": [
      "Iteración 0: [0. 0. 0.]\n",
      "Iteración 1: [ 0.33333333 -0.05555556  0.45238095]\n",
      "Iteración 2: [ 0.16402116 -0.17813051  0.57747543]\n",
      "Iteración 3: [ 0.08146468 -0.20606926  0.62483053]\n",
      "Iteración 4: [ 0.05636674 -0.2176713   0.6405591 ]\n",
      "Iteración 5: [ 0.04725653 -0.22139579  0.64605968]\n",
      "Iteración 6: [ 0.04418151 -0.22271681  0.6479437 ]\n",
      "Iteración 7: [ 0.04311316 -0.22316676  0.6485944 ]\n",
      "Iteración 8: [ 0.04274628 -0.22332251  0.64881839]\n",
      "\n",
      "Convergencia alcanzada.\n",
      "\n",
      "Solución aproximada final: [ 0.04274628 -0.22332251  0.64881839]\n"
     ]
    }
   ],
   "source": [
    "import numpy as np\n",
    "\n",
    "def gauss_seidel(A, b, x0, tol=1e-3, max_iter=100):\n",
    "    n = len(b)\n",
    "    x = x0.copy()\n",
    "\n",
    "    print(\"Iteración 0:\", x0)\n",
    "\n",
    "    for k in range(1, max_iter + 1):\n",
    "        x_old = x.copy()\n",
    "\n",
    "        for i in range(n):\n",
    "            s1 = sum(A[i][j] * x[j]     for j in range(i))\n",
    "            s2 = sum(A[i][j] * x_old[j] for j in range(i+1, n))\n",
    "            x[i] = (b[i] - s1 - s2) / A[i][i]\n",
    "\n",
    "        print(f\"Iteración {k}: {x}\")\n",
    "\n",
    "        if np.linalg.norm(x - x_old, ord=np.inf) < tol:\n",
    "            print(\"\\nConvergencia alcanzada.\")\n",
    "            break\n",
    "\n",
    "    return x\n",
    "\n",
    "# =====================\n",
    "# Ejemplo: Sistema (a)\n",
    "# =====================\n",
    "A = np.array([\n",
    "    [3, -1, 1],\n",
    "    [1, 6, 2],\n",
    "    [3, 3, 7]\n",
    "], dtype=float)\n",
    "\n",
    "b = np.array([1, 0, 4], dtype=float)\n",
    "x0 = np.zeros_like(b)\n",
    "\n",
    "sol = gauss_seidel(A, b, x0, tol=1e-3)\n",
    "print(\"\\nSolución aproximada final:\", sol)\n"
   ]
  },
  {
   "cell_type": "code",
   "execution_count": 3,
   "id": "d414bc4c",
   "metadata": {},
   "outputs": [
    {
     "name": "stdout",
     "output_type": "stream",
     "text": [
      "Iteración 0: [0. 0. 0.]\n",
      "Iteración 1: [0.1   0.01  0.402]\n",
      "Iteración 2: [0.101  0.0905 0.4181]\n",
      "Iteración 3: [0.10905  0.094525 0.418905]\n",
      "Iteración 4: [0.1094525  0.09472625 0.41894525]\n",
      "\n",
      "Convergencia alcanzada.\n",
      "\n",
      "Solución aproximada final: [0.1094525  0.09472625 0.41894525]\n"
     ]
    }
   ],
   "source": [
    "A = np.array([\n",
    "    [10, -1, 0],\n",
    "    [-1, 10, -2],\n",
    "    [0, -2, 10]\n",
    "], dtype=float)\n",
    "\n",
    "b = np.array([1, 0, 4], dtype=float)\n",
    "x0 = np.zeros_like(b)\n",
    "\n",
    "sol = gauss_seidel(A, b, x0, tol=1e-3)\n",
    "print(\"\\nSolución aproximada final:\", sol)"
   ]
  },
  {
   "cell_type": "code",
   "execution_count": 4,
   "id": "5c637a55",
   "metadata": {},
   "outputs": [
    {
     "name": "stdout",
     "output_type": "stream",
     "text": [
      "Iteración 0: [0. 0. 0. 0.]\n",
      "Iteración 1: [ 0.6    2.2   -0.275 -2.255]\n",
      "Iteración 2: [-0.5       2.64     -0.336875 -2.267375]\n",
      "Iteración 3: [-0.72        2.72525    -0.29579688 -2.25915938]\n",
      "Iteración 4: [-0.762625    2.76299375 -0.27589805 -2.25517961]\n",
      "Iteración 5: [-0.78149687  2.78038922 -0.26670284 -2.25334057]\n",
      "Iteración 6: [-0.79019461  2.78841617 -0.26245949 -2.2524919 ]\n",
      "Iteración 7: [-0.79420808  2.79212025 -0.26050136 -2.25210027]\n",
      "Iteración 8: [-0.79606012  2.79382952 -0.25959778 -2.25191956]\n",
      "Iteración 9: [-0.79691476  2.79461827 -0.25918081 -2.25183616]\n",
      "\n",
      "Convergencia alcanzada.\n",
      "\n",
      "Solución aproximada final: [-0.79691476  2.79461827 -0.25918081 -2.25183616]\n"
     ]
    }
   ],
   "source": [
    "A = np.array([\n",
    "    [10, 5, 0, 0],\n",
    "    [5, 10, -4, 0],\n",
    "    [0, -4, 8, -1],\n",
    "    [0, 0, -1, 5]\n",
    "], dtype=float)\n",
    "\n",
    "b = np.array([6, 25, -11, -11], dtype=float)\n",
    "x0 = np.zeros_like(b)\n",
    "\n",
    "sol = gauss_seidel(A, b, x0, tol=1e-3)\n",
    "print(\"\\nSolución aproximada final:\", sol)"
   ]
  },
  {
   "cell_type": "code",
   "execution_count": 5,
   "id": "c3ff21ec",
   "metadata": {},
   "outputs": [
    {
     "name": "stdout",
     "output_type": "stream",
     "text": [
      "Iteración 0: [0. 0. 0. 0. 0.]\n",
      "Iteración 1: [ 1.5    -2.5     1.1     1.45    3.2125]\n",
      "Iteración 2: [ 1.046875   -1.49895833  2.01354167  2.52239583  3.12903646]\n",
      "Iteración 3: [ 0.58909505 -0.68438585  2.23152561  2.97872504  2.77115587]\n",
      "Iteración 4: [ 0.42042609 -0.40339181  2.26248411  3.1002737   2.62349056]\n",
      "Iteración 5: [ 0.37935429 -0.33886549  2.26078424  3.120994    2.58477242]\n",
      "Iteración 6: [ 0.37332721 -0.33051632  2.25792567  3.12151789  2.57832294]\n",
      "Iteración 7: [ 0.37356693 -0.33137446  2.25681629  3.12031672  2.57822026]\n",
      "Iteración 8: [ 0.37408448 -0.33231716  2.25653704  3.11976532  2.57862003]\n",
      "\n",
      "Convergencia alcanzada.\n",
      "\n",
      "Solución aproximada final: [ 0.37408448 -0.33231716  2.25653704  3.11976532  2.57862003]\n"
     ]
    }
   ],
   "source": [
    "A = np.array([\n",
    "    [4, 1, 1, 0, 1],\n",
    "    [-1, -3, 1, 1, 0],\n",
    "    [2, 1, 5, -1, -1],\n",
    "    [-1, -2, -3, 4, 0],\n",
    "    [0, 2, -3, 1, 4]\n",
    "], dtype=float)\n",
    "\n",
    "b = np.array([6, 6, 6, 6, 6], dtype=float)\n",
    "x0 = np.zeros_like(b)\n",
    "\n",
    "sol = gauss_seidel(A, b, x0, tol=1e-3)\n",
    "print(\"\\nSolución aproximada final:\", sol)"
   ]
  }
 ],
 "metadata": {
  "kernelspec": {
   "display_name": "Python 3",
   "language": "python",
   "name": "python3"
  },
  "language_info": {
   "codemirror_mode": {
    "name": "ipython",
    "version": 3
   },
   "file_extension": ".py",
   "mimetype": "text/x-python",
   "name": "python",
   "nbconvert_exporter": "python",
   "pygments_lexer": "ipython3",
   "version": "3.13.0"
  }
 },
 "nbformat": 4,
 "nbformat_minor": 5
}
